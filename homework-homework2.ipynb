{
  "nbformat": 4,
  "nbformat_minor": 0,
  "metadata": {
    "colab": {
      "provenance": [],
      "authorship_tag": "ABX9TyNxmzRKR6QMijUUZP2fpQEm",
      "include_colab_link": true
    },
    "kernelspec": {
      "name": "python3",
      "display_name": "Python 3"
    },
    "language_info": {
      "name": "python"
    }
  },
  "cells": [
    {
      "cell_type": "markdown",
      "metadata": {
        "id": "view-in-github",
        "colab_type": "text"
      },
      "source": [
        "<a href=\"https://colab.research.google.com/github/alanayoung/BME3053C-Spring-2025/blob/main/homework-homework2.ipynb\" target=\"_parent\"><img src=\"https://colab.research.google.com/assets/colab-badge.svg\" alt=\"Open In Colab\"/></a>"
      ]
    },
    {
      "cell_type": "code",
      "execution_count": 8,
      "metadata": {
        "colab": {
          "base_uri": "https://localhost:8080/"
        },
        "id": "rlMh4LVV51u9",
        "outputId": "eefa0c51-d303-46ac-9019-09525691c9ca"
      },
      "outputs": [
        {
          "output_type": "stream",
          "name": "stdout",
          "text": [
            "[0.0, 0.32075471698113206, 0.5849056603773585, 0.05660377358490566, 0.7924528301886793, 1.0, 0.1320754716981132, 0.6415094339622641]\n"
          ]
        }
      ],
      "source": [
        "bp_readings = [120, 137, 151, 123, 162, 173, 127, 154]\n",
        "def normalize_values(values):\n",
        "  norm_values=[]\n",
        "  min_val = min(values)\n",
        "  max_val = max(values)\n",
        "  for i in range(len(values)):\n",
        "    norm_values.append((values[i] - min_val) / (max_val - min_val))\n",
        "  print(norm_values)\n",
        "\n",
        "normalize_values(bp_readings)\n"
      ]
    }
  ]
}